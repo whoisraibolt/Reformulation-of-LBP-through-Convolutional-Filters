{
 "cells": [
  {
   "cell_type": "code",
   "execution_count": 1,
   "metadata": {
    "collapsed": true
   },
   "outputs": [],
   "source": [
    "# Imports\n",
    "from PIL import Image\n",
    "from os import walk\n",
    "import matplotlib.pyplot as plt\n",
    "import numpy as np\n",
    "import tensorflow as tf"
   ]
  },
  {
   "cell_type": "code",
   "execution_count": 2,
   "metadata": {
    "collapsed": true
   },
   "outputs": [],
   "source": [
    "def load_dataset(path):\n",
    "    f = []\n",
    "    \n",
    "    # Find all images in folder\n",
    "    for (dirpath, dirnames, filenames) in walk(path):\n",
    "        f.extend(filenames)\n",
    "        \n",
    "        #print dirpath\n",
    "        #print dirnames\n",
    "        #print filenames\n",
    "        \n",
    "    images = []\n",
    "    \n",
    "    # For each image in folder\n",
    "    for item in f:\n",
    "        # Open and grayscale image\n",
    "        image = Image.open(path+'/'+item).convert('L')\n",
    "\n",
    "        # Get pixels from image (each pixel is into 0 to 255)\n",
    "        pxl = np.array(list(image.getdata()))\n",
    "        pxl = pxl.reshape(-1)\n",
    "        \n",
    "        images.append(pxl)\n",
    "        \n",
    "    images = np.array(images)\n",
    "        \n",
    "    return images, image.size, "
   ]
  },
  {
   "cell_type": "code",
   "execution_count": 3,
   "metadata": {
    "collapsed": true
   },
   "outputs": [],
   "source": [
    "# Get all images and their hidth and height\n",
    "data, (img_sizeW, img_sizeH) = load_dataset('input')"
   ]
  },
  {
   "cell_type": "code",
   "execution_count": 4,
   "metadata": {
    "collapsed": true
   },
   "outputs": [],
   "source": [
    "img_size_flat = img_sizeW * img_sizeH"
   ]
  },
  {
   "cell_type": "code",
   "execution_count": 5,
   "metadata": {
    "collapsed": true
   },
   "outputs": [],
   "source": [
    "def heaviside(x):\n",
    "    # if -1: (-1+1)/2 = 0\n",
    "    # if 0: (0+1)/2 = 0.5\n",
    "    # if 1: (1+1)/2 = 1\n",
    "    return 0.5 * (tf.sign(x) + 1) # 0.5 equal /2"
   ]
  },
  {
   "cell_type": "code",
   "execution_count": 6,
   "metadata": {
    "collapsed": true
   },
   "outputs": [],
   "source": [
    "H = [[ \n",
    "    [[ 0, 0, 0, 0, 0, 0, 0, 1]],\n",
    "    [[ 1, 0, 0, 0, 0, 0, 0, 0]],\n",
    "    [[ 0, 1, 0, 0, 0, 0, 0, 0]]\n",
    "    ],\n",
    "    [ \n",
    "    [[ 0, 0, 0, 0, 0, 0, 1, 0]],\n",
    "    [[-1,-1,-1,-1,-1,-1,-1,-1]],\n",
    "    [[ 0, 0, 1, 0, 0, 0, 0, 0]]\n",
    "    ],\n",
    "    [ \n",
    "    [[ 0, 0, 0, 0, 0, 1, 0, 0]],\n",
    "    [[ 0, 0, 0, 0, 1, 0, 0, 0]],\n",
    "    [[ 0, 0, 0, 1, 0, 0, 0, 0]]\n",
    "]]\n",
    "    \n",
    "anchor_weights = tf.cast(H, tf.float32)"
   ]
  },
  {
   "cell_type": "code",
   "execution_count": 7,
   "metadata": {
    "collapsed": true
   },
   "outputs": [],
   "source": [
    "x = tf.placeholder(tf.float32, shape=[None, img_size_flat])"
   ]
  },
  {
   "cell_type": "code",
   "execution_count": 8,
   "metadata": {
    "collapsed": true
   },
   "outputs": [],
   "source": [
    "x_image = tf.reshape(x, [-1, img_sizeW, img_sizeH, 1])"
   ]
  },
  {
   "cell_type": "code",
   "execution_count": 9,
   "metadata": {
    "collapsed": true
   },
   "outputs": [],
   "source": [
    "bit_maps = tf.nn.conv2d(input=x_image,\n",
    "                        filter=anchor_weights,\n",
    "                        strides=[1, 1, 1, 1],\n",
    "                        padding='SAME')"
   ]
  },
  {
   "cell_type": "code",
   "execution_count": 10,
   "metadata": {
    "collapsed": true
   },
   "outputs": [],
   "source": [
    "# Apply heaviside activation \n",
    "bit_maps = heaviside(bit_maps)"
   ]
  },
  {
   "cell_type": "code",
   "execution_count": 11,
   "metadata": {
    "collapsed": true
   },
   "outputs": [],
   "source": [
    "v = [2**7,2**6,2**5,2**4,2**3,2**2,2**1,2**0]"
   ]
  },
  {
   "cell_type": "code",
   "execution_count": 12,
   "metadata": {
    "collapsed": true
   },
   "outputs": [],
   "source": [
    "# TensorFlow session\n",
    "session = tf.Session()"
   ]
  },
  {
   "cell_type": "code",
   "execution_count": 13,
   "metadata": {
    "collapsed": true
   },
   "outputs": [],
   "source": [
    "# Initializing variables\n",
    "session.run(tf.global_variables_initializer())"
   ]
  },
  {
   "cell_type": "code",
   "execution_count": 14,
   "metadata": {
    "collapsed": true
   },
   "outputs": [],
   "source": [
    "# Get convoluted images with heaviside activation applied\n",
    "out = session.run([bit_maps], feed_dict={x:data})[0]"
   ]
  },
  {
   "cell_type": "code",
   "execution_count": 15,
   "metadata": {
    "collapsed": true
   },
   "outputs": [],
   "source": [
    "anses = []\n",
    "\n",
    "# For each image (we have 8 bit maps per image now)\n",
    "for i in range(out.shape[0]):\n",
    "    # Get array for one image (8 bit maps)\n",
    "    tmp = out[i]\n",
    "    tmp = np.transpose(tmp,(2, 0, 1))\n",
    "    \n",
    "    for j in range(8):\n",
    "        tmp[j] *= v[j]\n",
    "        \n",
    "    tmp = tmp.reshape(8, -1)\n",
    "    \n",
    "    # Get weighted sum\n",
    "    ans = np.sum(tmp, axis=0)\n",
    "    ans = ans.reshape(img_sizeH, img_sizeW)\n",
    "    anses.append(ans)"
   ]
  },
  {
   "cell_type": "code",
   "execution_count": 16,
   "metadata": {
    "collapsed": true
   },
   "outputs": [],
   "source": [
    "anses = np.array(anses)"
   ]
  },
  {
   "cell_type": "code",
   "execution_count": 17,
   "metadata": {
    "collapsed": true
   },
   "outputs": [],
   "source": [
    "output_path = 'output/'"
   ]
  },
  {
   "cell_type": "code",
   "execution_count": 18,
   "metadata": {
    "collapsed": true
   },
   "outputs": [],
   "source": [
    "for i in range(len(anses)):\n",
    "    # For each pixel it into (0 - 255) now\n",
    "    arr = anses[i].astype('uint8') \n",
    "    \n",
    "    # Get image from that array\n",
    "    image = Image.fromarray(arr)\n",
    "    \n",
    "    # Save as .jpg\n",
    "    image.save(output_path+str(i)+'.png')"
   ]
  },
  {
   "cell_type": "code",
   "execution_count": 19,
   "metadata": {
    "collapsed": true
   },
   "outputs": [],
   "source": [
    "# Helper-function for plotting an image\n",
    "def plot_image(image):\n",
    "    plt.imshow(image.reshape(200, 200),\n",
    "               interpolation='nearest',\n",
    "               cmap='gray')\n",
    "\n",
    "    plt.show()"
   ]
  },
  {
   "cell_type": "code",
   "execution_count": 20,
   "metadata": {},
   "outputs": [
    {
     "data": {
      "image/png": "[encoded data removed]",
      "text/plain": [
       "<matplotlib.figure.Figure at 0x7f2570e82050>"
      ]
     },
     "metadata": {},
     "output_type": "display_data"
    }
   ],
   "source": [
    "image = data[0] # Change 0 to see other images\n",
    "\n",
    "plot_image(image)"
   ]
  },
  {
   "cell_type": "code",
   "execution_count": 21,
   "metadata": {
    "collapsed": true
   },
   "outputs": [],
   "source": [
    "# Helper-function for plotting convolutional weights\n",
    "def plot_conv_weights(weights, input_channel=0):\n",
    "    # Assume weights are TensorFlow ops for 4-dim variables\n",
    "    # e.g. weights_conv1 or weights_conv2\n",
    "    \n",
    "    # Retrieve the values of the weight-variables from TensorFlow\n",
    "    # A feed-dict is not necessary because nothing is calculated\n",
    "    w = session.run(weights)\n",
    "\n",
    "    # Get the lowest and highest values for the weights\n",
    "    # This is used to correct the colour intensity across\n",
    "    # the images so they can be compared with each other\n",
    "    w_min = np.min(w)\n",
    "    w_max = np.max(w)\n",
    "\n",
    "    # Number of filters used in the conv. layer\n",
    "    num_filters = w.shape[3]\n",
    "\n",
    "    # Create figure with a grid of sub-plots\n",
    "    fig, axes = plt.subplots(4, 2)\n",
    "\n",
    "    # Plot all the filter-weights\n",
    "    for i, ax in enumerate(axes.flat):\n",
    "        # Only plot the valid filter-weights\n",
    "        if i < num_filters:\n",
    "            # Get the weights for the i'th filter of the input channel\n",
    "            # See new_conv_layer() for details on the format\n",
    "            # of this 4-dim tensor\n",
    "            image = w[:, :, input_channel, i]\n",
    "\n",
    "            # Plot image\n",
    "            ax.imshow(image, vmin=w_min, vmax=w_max,\n",
    "                      interpolation='nearest', cmap='seismic')\n",
    "        \n",
    "        # Remove ticks from the plot\n",
    "        ax.set_xticks([])\n",
    "        ax.set_yticks([])\n",
    "    \n",
    "    plt.show()"
   ]
  },
  {
   "cell_type": "code",
   "execution_count": 22,
   "metadata": {
    "scrolled": false
   },
   "outputs": [
    {
     "data": {
      "image/png": "[encoded data removed]",
      "text/plain": [
       "<matplotlib.figure.Figure at 0x7f256cb5f110>"
      ]
     },
     "metadata": {},
     "output_type": "display_data"
    }
   ],
   "source": [
    "# Plot weights\n",
    "plot_conv_weights(weights=anchor_weights)"
   ]
  },
  {
   "cell_type": "code",
   "execution_count": 23,
   "metadata": {
    "collapsed": true
   },
   "outputs": [],
   "source": [
    "def plot_conv_feature_maps(layer, image):\n",
    "    # Assume layer is a TensorFlow op that outputs a 4-dim tensor\n",
    "    # which is the output of a convolutional layer,\n",
    "    # e.g. layer_conv1 or layer_conv2\n",
    "\n",
    "    # Create a feed-dict containing just one image\n",
    "    # Note that we don't need to feed y_true because it is\n",
    "    # not used in this calculation\n",
    "    feed_dict = {x: [image]}\n",
    "\n",
    "    # Calculate and retrieve the output values of the layer\n",
    "    # when inputting that image\n",
    "    values = session.run(layer, feed_dict=feed_dict)\n",
    "\n",
    "    # Number of filters used in the conv. layer\n",
    "    num_filters = values.shape[3]\n",
    "\n",
    "    # Create figure with a grid of sub-plots\n",
    "    fig, axes = plt.subplots(4, 2)\n",
    "\n",
    "    # Plot the output images of all the filters\n",
    "    for i, ax in enumerate(axes.flat):\n",
    "        # Only plot the images for valid filters\n",
    "        if i<num_filters:\n",
    "            # Get the output image of using the i'th filter\n",
    "            # See new_conv_layer() for details on the format\n",
    "            # of this 4-dim tensor\n",
    "            image = values[0, :, :, i]\n",
    "\n",
    "            # Plot image.\n",
    "            ax.imshow(image, interpolation='nearest', cmap='gray')\n",
    "        \n",
    "        # Remove ticks from the plot\n",
    "        ax.set_xticks([])\n",
    "        ax.set_yticks([])\n",
    "    \n",
    "    plt.show()"
   ]
  },
  {
   "cell_type": "code",
   "execution_count": 24,
   "metadata": {},
   "outputs": [
    {
     "data": {
      "image/png": "[encoded data removed]",
      "text/plain": [
       "<matplotlib.figure.Figure at 0x7f256c4dded0>"
      ]
     },
     "metadata": {},
     "output_type": "display_data"
    }
   ],
   "source": [
    "# Plot Feature Maps\n",
    "plot_conv_feature_maps(layer=bit_maps, image=image)"
   ]
  },
  {
   "cell_type": "code",
   "execution_count": 25,
   "metadata": {
    "collapsed": true
   },
   "outputs": [],
   "source": [
    "# Close session\n",
    "session.close()"
   ]
  }
 ],
 "metadata": {
  "kernelspec": {
   "display_name": "Python 2",
   "language": "python",
   "name": "python2"
  },
  "language_info": {
   "codemirror_mode": {
    "name": "ipython",
    "version": 2
   },
   "file_extension": ".py",
   "mimetype": "text/x-python",
   "name": "python",
   "nbconvert_exporter": "python",
   "pygments_lexer": "ipython2",
   "version": "2.7.12"
  }
 },
 "nbformat": 4,
 "nbformat_minor": 2
}
